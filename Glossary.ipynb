{
 "cells": [
  {
   "cell_type": "code",
   "execution_count": 314,
   "metadata": {},
   "outputs": [],
   "source": [
    "# importing libraries\n",
    "import os\n",
    "import re\n",
    "import codecs\n",
    "import matplotlib.pyplot as plt\n",
    "import collections\n",
    "import pandas as pd\n",
    "import spacy\n",
    "nlp = spacy.load(\"en_core_web_sm\")\n",
    "\n",
    "%matplotlib inline"
   ]
  },
  {
   "cell_type": "code",
   "execution_count": 315,
   "metadata": {},
   "outputs": [],
   "source": [
    "BASE_DIR = 'data'\n",
    "DATA_DIR = codecs.open(os.path.join(BASE_DIR, 'data.txt'), 'rb', encoding='utf-8').readlines()\n",
    "COMMON_DIR = codecs.open(os.path.join(BASE_DIR, 'google_10000.txt'), 'rb', encoding='utf-8').readlines()\n",
    "true_data = pd.read_csv(os.path.join(BASE_DIR, 'true_glossary.csv'), sep='\\t')"
   ]
  },
  {
   "cell_type": "code",
   "execution_count": 316,
   "metadata": {},
   "outputs": [],
   "source": [
    "true_data_lst = true_data.iloc[:, 0].tolist()"
   ]
  },
  {
   "cell_type": "code",
   "execution_count": 329,
   "metadata": {},
   "outputs": [],
   "source": [
    "contraction_mapping = {\"ain't\": \"is not\", \"aren't\": \"are not\",\"can't\": \"cannot\", \"'cause\": \"because\", \"could've\": \"could have\", \"couldn't\": \"could not\", \"didn't\": \"did not\",  \"doesn't\": \"does not\", \"don't\": \"do not\", \"hadn't\": \"had not\", \"hasn't\": \"has not\", \"haven't\": \"have not\", \"he'd\": \"he would\",\"he'll\": \"he will\", \"he's\": \"he is\", \"how'd\": \"how did\", \"how'd'y\": \"how do you\", \"how'll\": \"how will\", \"how's\": \"how is\",  \"I'd\": \"I would\", \"I'd've\": \"I would have\", \"I'll\": \"I will\", \"I'll've\": \"I will have\",\"I'm\": \"I am\", \"I've\": \"I have\", \"i'd\": \"i would\", \"i'd've\": \"i would have\", \"i'll\": \"i will\",  \"i'll've\": \"i will have\",\"i'm\": \"i am\", \"i've\": \"i have\", \"isn't\": \"is not\", \"it'd\": \"it would\", \"it'd've\": \"it would have\", \"it'll\": \"it will\", \"it'll've\": \"it will have\",\"it's\": \"it is\", \"let's\": \"let us\", \"ma'am\": \"madam\", \"mayn't\": \"may not\", \"might've\": \"might have\",\"mightn't\": \"might not\",\"mightn't've\": \"might not have\", \"must've\": \"must have\", \"mustn't\": \"must not\", \"mustn't've\": \"must not have\", \"needn't\": \"need not\", \"needn't've\": \"need not have\",\"o'clock\": \"of the clock\", \"oughtn't\": \"ought not\", \"oughtn't've\": \"ought not have\", \"shan't\": \"shall not\", \"sha'n't\": \"shall not\", \"shan't've\": \"shall not have\", \"she'd\": \"she would\", \"she'd've\": \"she would have\", \"she'll\": \"she will\", \"she'll've\": \"she will have\", \"she's\": \"she is\", \"should've\": \"should have\", \"shouldn't\": \"should not\", \"shouldn't've\": \"should not have\", \"so've\": \"so have\",\"so's\": \"so as\", \"this's\": \"this is\",\"that'd\": \"that would\", \"that'd've\": \"that would have\", \"that's\": \"that is\", \"there'd\": \"there would\", \"there'd've\": \"there would have\", \"there's\": \"there is\", \"here's\": \"here is\",\"they'd\": \"they would\", \"they'd've\": \"they would have\", \"they'll\": \"they will\", \"they'll've\": \"they will have\", \"they're\": \"they are\", \"they've\": \"they have\", \"to've\": \"to have\", \"wasn't\": \"was not\", \"we'd\": \"we would\", \"we'd've\": \"we would have\", \"we'll\": \"we will\", \"we'll've\": \"we will have\", \"we're\": \"we are\", \"we've\": \"we have\", \"weren't\": \"were not\", \"what'll\": \"what will\", \"what'll've\": \"what will have\", \"what're\": \"what are\",  \"what's\": \"what is\", \"what've\": \"what have\", \"when's\": \"when is\", \"when've\": \"when have\", \"where'd\": \"where did\", \"where's\": \"where is\", \"where've\": \"where have\", \"who'll\": \"who will\", \"who'll've\": \"who will have\", \"who's\": \"who is\", \"who've\": \"who have\", \"why's\": \"why is\", \"why've\": \"why have\", \"will've\": \"will have\", \"won't\": \"will not\", \"won't've\": \"will not have\", \"would've\": \"would have\", \"wouldn't\": \"would not\", \"wouldn't've\": \"would not have\", \"y'all\": \"you all\", \"y'all'd\": \"you all would\",\"y'all'd've\": \"you all would have\",\"y'all're\": \"you all are\",\"y'all've\": \"you all have\",\"you'd\": \"you would\", \"you'd've\": \"you would have\", \"you'll\": \"you will\", \"you'll've\": \"you will have\", \"you're\": \"you are\", \"you've\": \"you have\" }\n",
    "punctuation = \"'!()-[]{};:'\\,<>./?@#$%^&*_~\"\n",
    "\n",
    "def expand_contractions(data_str):\n",
    "    specials = [\"’\", \"‘\", \"´\", \"`\", \"’\"]\n",
    "    for s in specials:\n",
    "        data_str = data_str.replace(s, \"'\")\n",
    "    data_str = ' '.join([contraction_mapping[t] if t in contraction_mapping else t for t in data_str.split(\" \")])\n",
    "    return data_str\n",
    "\n",
    "def extra_spaces(data_str):\n",
    "    return re.sub(r'\\s{1,}', ' ', data_str)\n",
    "\n",
    "def punctuations(data_str):\n",
    "    data_str = data_str.replace(\"'s\", \"\")\n",
    "    for x in data_str.lower():\n",
    "        if x in punctuation: \n",
    "            data_str = data_str.replace(x, \"\")\n",
    "    return data_str\n",
    "\n",
    "def preprocess(data_str):\n",
    "    data_str = expand_contractions(data_str)\n",
    "    data_str = punctuations(data_str)\n",
    "    data_str = extra_spaces(data_str)\n",
    "    return data_str\n",
    "\n",
    "def precision(pred, actual):\n",
    "    N = [i for i in pred if i in actual]\n",
    "    _D = [i for i in pred if i not in actual]\n",
    "    return len(N) / (len(N)+len(_D)), N, _D\n",
    "\n",
    "def recall(pred, actual):\n",
    "    N = [i for i in pred if i in actual]\n",
    "    _D = [i for i in actual if i not in pred]\n",
    "    return len(N) / (len(N)+len(_D)), N, _D\n",
    "\n",
    "def f1score(precision, recall):\n",
    "    return (2*precision*recall) / (precision + recall)\n",
    "\n",
    "data = preprocess(' '.join([i.lower().strip() for i in DATA_DIR if len(i.strip())> 2]))"
   ]
  },
  {
   "cell_type": "code",
   "execution_count": 330,
   "metadata": {},
   "outputs": [],
   "source": [
    "# np_chunks = set()\n",
    "# doc = nlp(data)\n",
    "# for chunk in doc.noun_chunks:\n",
    "#     np_chunks.add(chunk.text)\n",
    "np_chunks = set(nltk.word_tokenize(data))"
   ]
  },
  {
   "cell_type": "code",
   "execution_count": 331,
   "metadata": {},
   "outputs": [
    {
     "data": {
      "text/plain": [
       "6258"
      ]
     },
     "execution_count": 331,
     "metadata": {},
     "output_type": "execute_result"
    }
   ],
   "source": [
    "len(np_chunks)"
   ]
  },
  {
   "cell_type": "code",
   "execution_count": 332,
   "metadata": {},
   "outputs": [
    {
     "name": "stdout",
     "output_type": "stream",
     "text": [
      "Precision = 0.011505273250239693\n",
      "Recall = 0.7058823529411765\n",
      "TP=72, FP=6186, FN=30\n"
     ]
    }
   ],
   "source": [
    "prec, TP, FP = precision(np_chunks, true_data_lst)\n",
    "rec, TP, FN = recall(np_chunks, true_data_lst)\n",
    "\n",
    "print (f\"Precision = {prec}\")\n",
    "print (f\"Recall = {rec}\")\n",
    "print (f\"TP={len(TP)}, FP={len(FP)}, FN={len(FN)}\")"
   ]
  },
  {
   "cell_type": "code",
   "execution_count": null,
   "metadata": {},
   "outputs": [],
   "source": []
  },
  {
   "cell_type": "code",
   "execution_count": 339,
   "metadata": {},
   "outputs": [],
   "source": [
    "common = [i.strip() for i in COMMON_DIR]\n",
    "\n",
    "def remove_google_common(np_chunks):\n",
    "    keep, remove = [], []\n",
    "    for i in np_chunks:\n",
    "        if i not in common:\n",
    "            keep.append(i)\n",
    "        else:\n",
    "            remove.append(i)\n",
    "            \n",
    "    return keep, remove\n",
    "\n",
    "data_common_removed, common_removed = remove_google_common(np_chunks)"
   ]
  },
  {
   "cell_type": "code",
   "execution_count": 340,
   "metadata": {},
   "outputs": [
    {
     "data": {
      "text/plain": [
       "(3478, 2780)"
      ]
     },
     "execution_count": 340,
     "metadata": {},
     "output_type": "execute_result"
    }
   ],
   "source": [
    "len(data_common_removed), len(common_removed)"
   ]
  },
  {
   "cell_type": "code",
   "execution_count": 342,
   "metadata": {},
   "outputs": [
    {
     "name": "stdout",
     "output_type": "stream",
     "text": [
      "Precision = 0.019551466359977\n",
      "Recall = 0.6666666666666666\n",
      "TP=68, FP=3410, FN=34\n"
     ]
    }
   ],
   "source": [
    "prec, TP, FP = precision(data_common_removed, true_data_lst)\n",
    "rec, TP, FN = recall(data_common_removed, true_data_lst)\n",
    "\n",
    "print (f\"Precision = {prec}\")\n",
    "print (f\"Recall = {rec}\")\n",
    "print (f\"TP={len(TP)}, FP={len(FP)}, FN={len(FN)}\")"
   ]
  },
  {
   "cell_type": "code",
   "execution_count": 344,
   "metadata": {},
   "outputs": [
    {
     "data": {
      "text/plain": [
       "3410"
      ]
     },
     "execution_count": 344,
     "metadata": {},
     "output_type": "execute_result"
    }
   ],
   "source": []
  },
  {
   "cell_type": "code",
   "execution_count": 345,
   "metadata": {},
   "outputs": [],
   "source": [
    "ner_chunks = set()\n",
    "ner_chunks_cat = set()\n",
    "doc = nlp(data)\n",
    "for ent in doc.ents:\n",
    "    ner_chunks.add(ent.text)\n",
    "    ner_chunks_cat.add(ent.label_)"
   ]
  },
  {
   "cell_type": "code",
   "execution_count": 346,
   "metadata": {},
   "outputs": [],
   "source": [
    "def remove_ner(np_chunks):\n",
    "    keep, remove = [], []\n",
    "    for i in np_chunks:\n",
    "        if i not in ner_chunks:\n",
    "            keep.append(i)\n",
    "        else:\n",
    "            remove.append(i)\n",
    "    return keep, remove\n",
    "\n",
    "data_ner_removed, ner_removed = remove_ner(data_common_removed)"
   ]
  },
  {
   "cell_type": "code",
   "execution_count": 347,
   "metadata": {},
   "outputs": [
    {
     "data": {
      "text/plain": [
       "(3118, 360)"
      ]
     },
     "execution_count": 347,
     "metadata": {},
     "output_type": "execute_result"
    }
   ],
   "source": [
    "len(data_ner_removed), len(ner_removed)"
   ]
  },
  {
   "cell_type": "code",
   "execution_count": 348,
   "metadata": {},
   "outputs": [
    {
     "name": "stdout",
     "output_type": "stream",
     "text": [
      "Precision = 0.021808851828094934\n",
      "Recall = 0.6666666666666666\n",
      "TP=68, FP=3050, FN=34\n"
     ]
    }
   ],
   "source": [
    "prec, TP, FP = precision(data_ner_removed, true_data_lst)\n",
    "rec, TP, FN = recall(data_ner_removed, true_data_lst)\n",
    "\n",
    "print (f\"Precision = {prec}\")\n",
    "print (f\"Recall = {rec}\")\n",
    "print (f\"TP={len(TP)}, FP={len(FP)}, FN={len(FN)}\")"
   ]
  },
  {
   "cell_type": "code",
   "execution_count": null,
   "metadata": {},
   "outputs": [],
   "source": []
  },
  {
   "cell_type": "code",
   "execution_count": null,
   "metadata": {},
   "outputs": [],
   "source": []
  },
  {
   "cell_type": "code",
   "execution_count": 310,
   "metadata": {},
   "outputs": [],
   "source": [
    "wc = dict(collections.Counter(nltk.word_tokenize(data)))\n",
    "wc_len = {k: len(k) for k, v in wc.items()}\n",
    "wc_len = dict(sorted(wc_len.items(), key=lambda k: k[1], reverse=True))\n",
    "\n",
    "def remove_high_low_len(np_chunks):\n",
    "    keep, remove = [], []\n",
    "    for i in np_chunks:\n",
    "        if i in wc_len:\n",
    "            if wc_len[i] >= 4 and wc_len[i] < 12:\n",
    "                keep.append(i)\n",
    "            else:\n",
    "                remove.append(i)\n",
    "        else:\n",
    "            keep.append(i)\n",
    "    return keep, remove\n",
    "\n",
    "data_len_removed, len_removed = remove_high_low_len(data_common_removed)"
   ]
  },
  {
   "cell_type": "code",
   "execution_count": 311,
   "metadata": {},
   "outputs": [
    {
     "data": {
      "text/plain": [
       "(2973, 505)"
      ]
     },
     "execution_count": 311,
     "metadata": {},
     "output_type": "execute_result"
    }
   ],
   "source": [
    "len(data_len_removed), len(len_removed)"
   ]
  },
  {
   "cell_type": "code",
   "execution_count": 312,
   "metadata": {},
   "outputs": [
    {
     "name": "stdout",
     "output_type": "stream",
     "text": [
      "Precision = 0.02186343760511268\n",
      "Recall = 0.6372549019607843\n",
      "TP=65, FP=2908, FN=37\n"
     ]
    }
   ],
   "source": [
    "prec, TP, FP = precision(data_len_removed, true_data_lst)\n",
    "rec, TP, FN = recall(data_len_removed, true_data_lst)\n",
    "\n",
    "print (f\"Precision = {prec}\")\n",
    "print (f\"Recall = {rec}\")\n",
    "print (f\"TP={TP}, FP={FP}, FN={FN}\")"
   ]
  },
  {
   "cell_type": "code",
   "execution_count": 265,
   "metadata": {},
   "outputs": [
    {
     "data": {
      "image/png": "[encoded data removed]",
      "text/plain": [
       "<Figure size 432x288 with 1 Axes>"
      ]
     },
     "metadata": {
      "needs_background": "light"
     },
     "output_type": "display_data"
    }
   ],
   "source": [
    "plt.bar(range(len(wc_freq)), list(wc_freq.values()), align='center')\n",
    "plt.xticks(range(len(wc_freq)), list(wc_freq.keys()))\n",
    "\n",
    "plt.show()"
   ]
  },
  {
   "cell_type": "code",
   "execution_count": 274,
   "metadata": {},
   "outputs": [
    {
     "data": {
      "image/png": "[encoded data removed]",
      "text/plain": [
       "<Figure size 432x288 with 1 Axes>"
      ]
     },
     "metadata": {
      "needs_background": "light"
     },
     "output_type": "display_data"
    },
    {
     "data": {
      "image/png": "[encoded data removed]",
      "text/plain": [
       "<Figure size 432x288 with 1 Axes>"
      ]
     },
     "metadata": {
      "needs_background": "light"
     },
     "output_type": "display_data"
    }
   ],
   "source": [
    "wc = dict(collections.Counter(nltk.word_tokenize(data)))\n",
    "wc_len = {k: len(k) for k, v in wc.items()}\n",
    "wc_len = dict(sorted(wc_len.items(), key=lambda k: k[1], reverse=True))\n",
    "\n",
    "true_len = {i: len(i) for i in true_data_lst}\n",
    "true_len = dict(sorted(true_len.items(), key=lambda k: k[1], reverse=True))\n"
   ]
  },
  {
   "cell_type": "code",
   "execution_count": null,
   "metadata": {},
   "outputs": [],
   "source": [
    "\n",
    "plt.subplot(1, 2, 1)\n",
    "plt.bar(range(len(wc_len)), list(wc_len.values()), align='center')\n",
    "plt.show()\n",
    "\n",
    "plt.subplot(1, 2, 2)\n",
    "plt.bar(range(len(true_len)), list(true_len.values()), align='center')\n",
    "plt.show()"
   ]
  },
  {
   "cell_type": "code",
   "execution_count": 272,
   "metadata": {},
   "outputs": [
    {
     "data": {
      "image/png": "[encoded data removed]",
      "text/plain": [
       "<Figure size 432x288 with 1 Axes>"
      ]
     },
     "metadata": {
      "needs_background": "light"
     },
     "output_type": "display_data"
    }
   ],
   "source": [
    "\n",
    "\n",
    "plt.bar(range(len(true_len)), list(true_len.values()), align='center')\n",
    "plt.show()"
   ]
  },
  {
   "cell_type": "code",
   "execution_count": 338,
   "metadata": {},
   "outputs": [
    {
     "data": {
      "text/plain": [
       "['gangling',\n",
       " 'pliable',\n",
       " 'trifle',\n",
       " 'knobbly',\n",
       " 'pasty',\n",
       " 'seeker',\n",
       " 'remembrall',\n",
       " 'alchemy',\n",
       " 'bludger',\n",
       " 'snitch',\n",
       " 'quaffle',\n",
       " 'biased',\n",
       " 'gryffindor',\n",
       " 'phoenix',\n",
       " 'fixedly',\n",
       " 'tripe',\n",
       " 'mangled',\n",
       " 'kip',\n",
       " 'abysmal',\n",
       " 'chaser',\n",
       " 'galoshes',\n",
       " 'galleon',\n",
       " 'herbology',\n",
       " 'marmalade',\n",
       " 'hogwarts',\n",
       " 'flimsy',\n",
       " 'sickle',\n",
       " 'fanatic',\n",
       " 'limp',\n",
       " 'treacle',\n",
       " 'muggle',\n",
       " 'slytherin',\n",
       " 'monkshood',\n",
       " 'ravenclaw',\n",
       " 'whelk',\n",
       " 'berserk',\n",
       " 'spasm',\n",
       " 'riffraff',\n",
       " 'bezoar',\n",
       " 'pewter',\n",
       " 'spindly',\n",
       " 'beater',\n",
       " 'ruffled',\n",
       " 'ornate',\n",
       " 'pub',\n",
       " 'gringotts',\n",
       " 'centaur',\n",
       " 'rigid',\n",
       " 'feeble',\n",
       " 'stalactite',\n",
       " 'prefect',\n",
       " 'hufflepuff',\n",
       " 'wolfsbane',\n",
       " 'stoat',\n",
       " 'diversion',\n",
       " 'quidditch',\n",
       " 'tuft',\n",
       " 'contrary',\n",
       " 'keeper',\n",
       " 'askew',\n",
       " 'disgruntled',\n",
       " 'knickerbocker',\n",
       " 'luminous',\n",
       " 'tawny',\n",
       " 'stalagmite',\n",
       " 'gibber',\n",
       " 'toil',\n",
       " 'mystified',\n",
       " 'rickety',\n",
       " 'tyke',\n",
       " 'hygienic',\n",
       " 'transfiguration']"
      ]
     },
     "execution_count": 338,
     "metadata": {},
     "output_type": "execute_result"
    }
   ],
   "source": [
    "TP"
   ]
  },
  {
   "cell_type": "code",
   "execution_count": null,
   "metadata": {},
   "outputs": [],
   "source": []
  },
  {
   "cell_type": "code",
   "execution_count": null,
   "metadata": {},
   "outputs": [],
   "source": []
  },
  {
   "cell_type": "code",
   "execution_count": null,
   "metadata": {},
   "outputs": [],
   "source": []
  },
  {
   "cell_type": "code",
   "execution_count": null,
   "metadata": {},
   "outputs": [],
   "source": []
  },
  {
   "cell_type": "code",
   "execution_count": null,
   "metadata": {},
   "outputs": [],
   "source": []
  },
  {
   "cell_type": "code",
   "execution_count": null,
   "metadata": {},
   "outputs": [],
   "source": []
  },
  {
   "cell_type": "code",
   "execution_count": 136,
   "metadata": {},
   "outputs": [],
   "source": [
    "import nltk\n",
    "from nltk.corpus import PlaintextCorpusReader\n",
    "\n",
    "tokens = nltk.word_tokenize(data)\n",
    "text = nltk.Text(tokens)"
   ]
  },
  {
   "cell_type": "code",
   "execution_count": 244,
   "metadata": {},
   "outputs": [
    {
     "name": "stdout",
     "output_type": "stream",
     "text": [
      "Displaying 5 of 5 matches:\n",
      "aid she could not believe it was her ickle dudleykins he looked so handsome and\n",
      "geroff ” he wriggled free “ aaah has ickle ronnie got somefink on his nosie ” s\n",
      "ny and look after ron ” “ dont worry ickle ronniekins is safe with us ” “ shut \n",
      "oooh ” he said with an evil cackle “ ickle firsties what fun ” he swooped sudde\n",
      "ckled “ wandering around at midnight ickle firsties tut tut tut naughty naughty\n"
     ]
    }
   ],
   "source": [
    "text.concordance(\"ickle\")"
   ]
  },
  {
   "cell_type": "code",
   "execution_count": null,
   "metadata": {},
   "outputs": [],
   "source": []
  }
 ],
 "metadata": {
  "kernelspec": {
   "display_name": "Python 3",
   "language": "python",
   "name": "python3"
  },
  "language_info": {
   "codemirror_mode": {
    "name": "ipython",
    "version": 3
   },
   "file_extension": ".py",
   "mimetype": "text/x-python",
   "name": "python",
   "nbconvert_exporter": "python",
   "pygments_lexer": "ipython3",
   "version": "3.6.9"
  }
 },
 "nbformat": 4,
 "nbformat_minor": 4
}
