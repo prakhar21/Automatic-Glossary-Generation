{
 "cells": [
  {
   "cell_type": "code",
   "execution_count": 105,
   "metadata": {},
   "outputs": [
    {
     "name": "stdout",
     "output_type": "stream",
     "text": [
      "Reading Book 1661\n",
      "Reading Book 3825\n",
      "Reading Book 408\n",
      "Reading Book 1727\n",
      "Reading Book 25344\n",
      "Reading Book 514\n",
      "Reading Book 147\n",
      "Reading Book 1342\n",
      "Reading Book 766\n",
      "Reading Book 158\n",
      "Reading Book HP4\n",
      "Reading Book 730\n",
      "Reading Book 1250\n",
      "Reading Book 4363\n",
      "Reading Book 768\n",
      "Reading Book 174\n",
      "Reading Book 1754\n",
      "Reading Book 2852\n",
      "Reading Book 45\n",
      "Reading Book 2680\n",
      "Reading Book HP1\n",
      "Reading Book 3207\n",
      "Reading Book 55\n",
      "Reading Book 219\n",
      "Reading Book 2591\n",
      "Reading Book 244\n",
      "Reading Book 41\n",
      "Reading Book 16\n",
      "Reading Book 20228\n",
      "Reading Book 113\n",
      "Reading Book HP2\n",
      "Reading Book 28054\n",
      "Reading Book 7370\n",
      "Reading Book 1952\n",
      "Reading Book HP3\n",
      "Reading Book HP5\n",
      "Reading Book 36\n",
      "Reading Book 376\n",
      "Reading Book 140\n",
      "Reading Book 2600\n"
     ]
    }
   ],
   "source": [
    "import codecs\n",
    "import os\n",
    "import pandas as pd\n",
    "import glob\n",
    "import nltk\n",
    "from nltk.corpus import PlaintextCorpusReader\n",
    "\n",
    "def get_context(c):\n",
    "    try:\n",
    "\n",
    "        result = text.concordance_list(c)[0]\n",
    "        left_of_query = ' '.join(result.left)\n",
    "        query = result.query\n",
    "        right_of_query = ' '.join(result.right)\n",
    "        return left_of_query + ' ' + query + ' ' + right_of_query\n",
    "    except:\n",
    "        return ''\n",
    "\n",
    "generated_dfs = []\n",
    "BASE_DIR = 'data'\n",
    "for book in glob.glob(BASE_DIR+'/books/*'):\n",
    "    book_name = book.split('/')[-1].split('.')[0]\n",
    "    try:\n",
    "        DATA_DIR = codecs.open(os.path.join(BASE_DIR, f'books/{book_name}.txt'), 'rb', encoding='utf-8').readlines()\n",
    "        true_data = pd.read_csv(os.path.join(BASE_DIR, f'ground_truth/{book_name}.csv'), sep='\\t')\n",
    "        print (f'Reading Book {book_name}')\n",
    "        full_data = ' '.join([i.lower().strip() for i in DATA_DIR if len(i.strip())>1])\n",
    "        tokens = nltk.word_tokenize(full_data)\n",
    "        text = nltk.Text(tokens)\n",
    "        true_data['firstcontext'] = true_data['word'].map(lambda k: get_context(k))\n",
    "        generated_dfs.append(true_data)\n",
    "    except Exception as e:\n",
    "        pass"
   ]
  },
  {
   "cell_type": "code",
   "execution_count": 106,
   "metadata": {},
   "outputs": [
    {
     "data": {
      "text/plain": [
       "((665, 3), 640, 660, 665)"
      ]
     },
     "execution_count": 106,
     "metadata": {},
     "output_type": "execute_result"
    }
   ],
   "source": [
    "final_df = pd.concat(generated_dfs[:], axis=0)\n",
    "final_df = final_df[final_df['firstcontext']!='']\n",
    "final_df.shape, len(final_df['word'].unique()), len(final_df['def'].unique()), len(final_df['firstcontext'].unique())"
   ]
  },
  {
   "cell_type": "code",
   "execution_count": 89,
   "metadata": {},
   "outputs": [],
   "source": [
    "# final_df = final_df[['def', 'firstcontext']].reset_index()"
   ]
  },
  {
   "cell_type": "code",
   "execution_count": 107,
   "metadata": {},
   "outputs": [],
   "source": [
    "# final_df.drop(['index'], inplace=True, axis=1)"
   ]
  },
  {
   "cell_type": "code",
   "execution_count": 95,
   "metadata": {},
   "outputs": [
    {
     "data": {
      "text/plain": [
       "'he knew a lady on one of the boulevards whom he visited of an evening . he led the mazurka at the arkhã¡rovsâ\\x80\\x99 ball , talked about the war with field marshal kã¡menski , visited the english club'"
      ]
     },
     "execution_count": 95,
     "metadata": {},
     "output_type": "execute_result"
    }
   ],
   "source": []
  },
  {
   "cell_type": "code",
   "execution_count": 109,
   "metadata": {},
   "outputs": [
    {
     "data": {
      "text/plain": [
       "'workbag on her arm , and gaily spreading out her dress sat down on a sofa near the silver samovar , as if all she was doing was a pleasure to herself and to all around her .'"
      ]
     },
     "execution_count": 109,
     "metadata": {},
     "output_type": "execute_result"
    }
   ],
   "source": [
    "final_df.iloc[661]['firstcontext']"
   ]
  },
  {
   "cell_type": "code",
   "execution_count": 110,
   "metadata": {},
   "outputs": [
    {
     "data": {
      "text/plain": [
       "'an ornate tea-urn, often used by wealthy and middle-class families in russia'"
      ]
     },
     "execution_count": 110,
     "metadata": {},
     "output_type": "execute_result"
    }
   ],
   "source": [
    "final_df.iloc[661]['def']"
   ]
  },
  {
   "cell_type": "code",
   "execution_count": 111,
   "metadata": {},
   "outputs": [
    {
     "data": {
      "text/plain": [
       "'samovar'"
      ]
     },
     "execution_count": 111,
     "metadata": {},
     "output_type": "execute_result"
    }
   ],
   "source": [
    "final_df.iloc[661]['word']"
   ]
  },
  {
   "cell_type": "code",
   "execution_count": null,
   "metadata": {},
   "outputs": [],
   "source": []
  }
 ],
 "metadata": {
  "kernelspec": {
   "display_name": "Python 3",
   "language": "python",
   "name": "python3"
  },
  "language_info": {
   "codemirror_mode": {
    "name": "ipython",
    "version": 3
   },
   "file_extension": ".py",
   "mimetype": "text/x-python",
   "name": "python",
   "nbconvert_exporter": "python",
   "pygments_lexer": "ipython3",
   "version": "3.6.9"
  }
 },
 "nbformat": 4,
 "nbformat_minor": 4
}
